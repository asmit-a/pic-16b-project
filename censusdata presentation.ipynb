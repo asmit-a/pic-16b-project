{
 "cells": [
  {
   "cell_type": "markdown",
   "id": "2196fb0e",
   "metadata": {},
   "source": [
    "## Finding a package\n",
    "\n",
    "We ended up going with the censusdata package. We found a clear write up about it at  https://towardsdatascience.com/accessing-census-data-with-python-3e2f2b56e20d and found it's functions clear and useful. We originally looked at the census package, but this required an api to access the data that often failed and the functions to get the data were less clear."
   ]
  },
  {
   "cell_type": "code",
   "execution_count": 1,
   "id": "eda22d13",
   "metadata": {},
   "outputs": [],
   "source": [
    "import pandas as pd\n",
    "import censusdata"
   ]
  },
  {
   "cell_type": "markdown",
   "id": "739bb81c",
   "metadata": {},
   "source": [
    "## Searching for relevant tables\n",
    "\n",
    "This package contains a search function that allows us to search a data set for relevant tables."
   ]
  },
  {
   "cell_type": "markdown",
   "id": "cfbe1371",
   "metadata": {},
   "source": [
    "In this search we looked at the American Community Survey 5-year estimates. This is a more in depth but slightly less accurate version of the 10 year census and is conducted on a rolling basis."
   ]
  },
  {
   "cell_type": "markdown",
   "id": "c6812149",
   "metadata": {},
   "source": [
    "In this search we look at this data set for 2019 and look for tables related to marriage."
   ]
  },
  {
   "cell_type": "code",
   "execution_count": 6,
   "id": "35a0249d",
   "metadata": {},
   "outputs": [
    {
     "name": "stdout",
     "output_type": "stream",
     "text": [
      "56\n"
     ]
    },
    {
     "data": {
      "text/plain": [
       "[('B12007A_001E',\n",
       "  'MEDIAN AGE AT FIRST MARRIAGE (WHITE ALONE)',\n",
       "  'Estimate!!Median age at first marriage --!!Male'),\n",
       " ('B12007A_002E',\n",
       "  'MEDIAN AGE AT FIRST MARRIAGE (WHITE ALONE)',\n",
       "  'Estimate!!Median age at first marriage --!!Female'),\n",
       " ('B12007B_001E',\n",
       "  'MEDIAN AGE AT FIRST MARRIAGE (BLACK OR AFRICAN AMERICAN ALONE)',\n",
       "  'Estimate!!Median age at first marriage --!!Male')]"
      ]
     },
     "execution_count": 6,
     "metadata": {},
     "output_type": "execute_result"
    }
   ],
   "source": [
    "tables = censusdata.search('acs5', 2019,'concept', 'marriage')\n",
    "print(len(tables))\n",
    "tables[:3]"
   ]
  },
  {
   "cell_type": "markdown",
   "id": "1e444505",
   "metadata": {},
   "source": [
    "This outputs a list of tuples with the code name, table name, and variable."
   ]
  },
  {
   "cell_type": "markdown",
   "id": "57e6997f",
   "metadata": {},
   "source": [
    "We then looked at a list of just the table names to be able to more easily look for the table we want."
   ]
  },
  {
   "cell_type": "code",
   "execution_count": 5,
   "id": "f6d0226d",
   "metadata": {},
   "outputs": [
    {
     "data": {
      "text/plain": [
       "['MARRIAGES ENDING IN WIDOWHOOD IN THE LAST YEAR BY SEX BY MARITAL STATUS FOR THE POPULATION 15 YEARS AND OVER',\n",
       " 'MARRIAGES IN THE LAST YEAR BY SEX BY MARITAL STATUS FOR THE POPULATION 15 YEARS AND OVER',\n",
       " 'MEDIAN AGE AT FIRST MARRIAGE',\n",
       " 'MEDIAN AGE AT FIRST MARRIAGE (AMERICAN INDIAN AND ALASKA NATIVE ALONE)',\n",
       " 'MEDIAN AGE AT FIRST MARRIAGE (ASIAN ALONE)',\n",
       " 'MEDIAN AGE AT FIRST MARRIAGE (BLACK OR AFRICAN AMERICAN ALONE)',\n",
       " 'MEDIAN AGE AT FIRST MARRIAGE (HISPANIC OR LATINO)',\n",
       " 'MEDIAN AGE AT FIRST MARRIAGE (NATIVE HAWAIIAN AND OTHER PACIFIC ISLANDER ALONE)',\n",
       " 'MEDIAN AGE AT FIRST MARRIAGE (SOME OTHER RACE ALONE)',\n",
       " 'MEDIAN AGE AT FIRST MARRIAGE (TWO OR MORE RACES)',\n",
       " 'MEDIAN AGE AT FIRST MARRIAGE (WHITE ALONE)',\n",
       " 'MEDIAN AGE AT FIRST MARRIAGE (WHITE ALONE, NOT HISPANIC OR LATINO)',\n",
       " 'MEDIAN DURATION OF CURRENT MARRIAGE IN YEARS BY SEX BY MARITAL STATUS FOR THE MARRIED POPULATION 15 YEARS AND OVER']"
      ]
     },
     "execution_count": 5,
     "metadata": {},
     "output_type": "execute_result"
    }
   ],
   "source": [
    "table_names = list(set([row[1] for row in tables[:len(tables)-1]]))\n",
    "table_names.sort()\n",
    "table_names"
   ]
  },
  {
   "cell_type": "markdown",
   "id": "e77eebb1",
   "metadata": {},
   "source": [
    "## Getting data froma specific table"
   ]
  },
  {
   "cell_type": "markdown",
   "id": "55ef9ff6",
   "metadata": {},
   "source": [
    "Copy and paste from above list to get more info"
   ]
  },
  {
   "cell_type": "code",
   "execution_count": 8,
   "id": "3476c1cf",
   "metadata": {},
   "outputs": [
    {
     "name": "stdout",
     "output_type": "stream",
     "text": [
      "('B12007_001E', 'MEDIAN AGE AT FIRST MARRIAGE', 'Estimate!!Median age at first marriage --!!Male')\n",
      "('B12007_002E', 'MEDIAN AGE AT FIRST MARRIAGE', 'Estimate!!Median age at first marriage --!!Female')\n"
     ]
    },
    {
     "data": {
      "text/plain": [
       "'B12007'"
      ]
     },
     "execution_count": 8,
     "metadata": {},
     "output_type": "execute_result"
    }
   ],
   "source": [
    "desc = 'MEDIAN AGE AT FIRST MARRIAGE'\n",
    "for item in tables:\n",
    "    if item[1] == desc:\n",
    "        print(item)\n",
    "        code = item[0][:6]\n",
    "code"
   ]
  },
  {
   "cell_type": "markdown",
   "id": "a11423d2",
   "metadata": {},
   "source": [
    "A cleaner look at all the subtables to get the variable names"
   ]
  },
  {
   "cell_type": "code",
   "execution_count": 10,
   "id": "84360879",
   "metadata": {},
   "outputs": [
    {
     "name": "stdout",
     "output_type": "stream",
     "text": [
      "Variable     | Table                          | Label                                                    | Type \n",
      "-------------------------------------------------------------------------------------------------------------------\n",
      "B12007_001E  | MEDIAN AGE AT FIRST MARRIAGE   | !! !! Estimate Median age at first marriage -- Male      | float\n",
      "B12007_002E  | MEDIAN AGE AT FIRST MARRIAGE   | !! !! Estimate Median age at first marriage -- Female    | float\n",
      "-------------------------------------------------------------------------------------------------------------------\n"
     ]
    }
   ],
   "source": [
    "censusdata.printtable(censusdata.censustable('acs5', 2019, 'B12007'))"
   ]
  },
  {
   "cell_type": "markdown",
   "id": "01d65f4a",
   "metadata": {},
   "source": [
    "Pull the data"
   ]
  },
  {
   "cell_type": "code",
   "execution_count": 11,
   "id": "8fed02ee",
   "metadata": {},
   "outputs": [
    {
     "data": {
      "text/html": [
       "<div>\n",
       "<style scoped>\n",
       "    .dataframe tbody tr th:only-of-type {\n",
       "        vertical-align: middle;\n",
       "    }\n",
       "\n",
       "    .dataframe tbody tr th {\n",
       "        vertical-align: top;\n",
       "    }\n",
       "\n",
       "    .dataframe thead th {\n",
       "        text-align: right;\n",
       "    }\n",
       "</style>\n",
       "<table border=\"1\" class=\"dataframe\">\n",
       "  <thead>\n",
       "    <tr style=\"text-align: right;\">\n",
       "      <th></th>\n",
       "      <th>B12007_001E</th>\n",
       "      <th>B12007_002E</th>\n",
       "    </tr>\n",
       "  </thead>\n",
       "  <tbody>\n",
       "    <tr>\n",
       "      <th>Alabama: Summary level: 040, state:01</th>\n",
       "      <td>28.5</td>\n",
       "      <td>26.7</td>\n",
       "    </tr>\n",
       "    <tr>\n",
       "      <th>Alaska: Summary level: 040, state:02</th>\n",
       "      <td>29.2</td>\n",
       "      <td>26.4</td>\n",
       "    </tr>\n",
       "    <tr>\n",
       "      <th>Arizona: Summary level: 040, state:04</th>\n",
       "      <td>29.9</td>\n",
       "      <td>27.8</td>\n",
       "    </tr>\n",
       "    <tr>\n",
       "      <th>Arkansas: Summary level: 040, state:05</th>\n",
       "      <td>27.2</td>\n",
       "      <td>25.7</td>\n",
       "    </tr>\n",
       "    <tr>\n",
       "      <th>California: Summary level: 040, state:06</th>\n",
       "      <td>30.8</td>\n",
       "      <td>29.0</td>\n",
       "    </tr>\n",
       "    <tr>\n",
       "      <th>Colorado: Summary level: 040, state:08</th>\n",
       "      <td>29.7</td>\n",
       "      <td>27.7</td>\n",
       "    </tr>\n",
       "    <tr>\n",
       "      <th>Delaware: Summary level: 040, state:10</th>\n",
       "      <td>30.4</td>\n",
       "      <td>29.0</td>\n",
       "    </tr>\n",
       "    <tr>\n",
       "      <th>District of Columbia: Summary level: 040, state:11</th>\n",
       "      <td>30.9</td>\n",
       "      <td>30.6</td>\n",
       "    </tr>\n",
       "    <tr>\n",
       "      <th>Connecticut: Summary level: 040, state:09</th>\n",
       "      <td>31.1</td>\n",
       "      <td>29.5</td>\n",
       "    </tr>\n",
       "    <tr>\n",
       "      <th>Florida: Summary level: 040, state:12</th>\n",
       "      <td>30.7</td>\n",
       "      <td>28.9</td>\n",
       "    </tr>\n",
       "    <tr>\n",
       "      <th>Georgia: Summary level: 040, state:13</th>\n",
       "      <td>29.5</td>\n",
       "      <td>27.7</td>\n",
       "    </tr>\n",
       "    <tr>\n",
       "      <th>Idaho: Summary level: 040, state:16</th>\n",
       "      <td>27.0</td>\n",
       "      <td>25.4</td>\n",
       "    </tr>\n",
       "    <tr>\n",
       "      <th>Hawaii: Summary level: 040, state:15</th>\n",
       "      <td>29.3</td>\n",
       "      <td>28.4</td>\n",
       "    </tr>\n",
       "    <tr>\n",
       "      <th>Illinois: Summary level: 040, state:17</th>\n",
       "      <td>30.5</td>\n",
       "      <td>28.9</td>\n",
       "    </tr>\n",
       "    <tr>\n",
       "      <th>Indiana: Summary level: 040, state:18</th>\n",
       "      <td>29.0</td>\n",
       "      <td>27.0</td>\n",
       "    </tr>\n",
       "    <tr>\n",
       "      <th>Iowa: Summary level: 040, state:19</th>\n",
       "      <td>28.4</td>\n",
       "      <td>26.6</td>\n",
       "    </tr>\n",
       "    <tr>\n",
       "      <th>Kansas: Summary level: 040, state:20</th>\n",
       "      <td>27.8</td>\n",
       "      <td>26.1</td>\n",
       "    </tr>\n",
       "    <tr>\n",
       "      <th>Kentucky: Summary level: 040, state:21</th>\n",
       "      <td>28.1</td>\n",
       "      <td>26.4</td>\n",
       "    </tr>\n",
       "    <tr>\n",
       "      <th>Louisiana: Summary level: 040, state:22</th>\n",
       "      <td>29.7</td>\n",
       "      <td>27.9</td>\n",
       "    </tr>\n",
       "    <tr>\n",
       "      <th>Maine: Summary level: 040, state:23</th>\n",
       "      <td>29.7</td>\n",
       "      <td>27.8</td>\n",
       "    </tr>\n",
       "    <tr>\n",
       "      <th>Maryland: Summary level: 040, state:24</th>\n",
       "      <td>30.5</td>\n",
       "      <td>29.1</td>\n",
       "    </tr>\n",
       "    <tr>\n",
       "      <th>Massachusetts: Summary level: 040, state:25</th>\n",
       "      <td>31.0</td>\n",
       "      <td>29.9</td>\n",
       "    </tr>\n",
       "    <tr>\n",
       "      <th>Michigan: Summary level: 040, state:26</th>\n",
       "      <td>30.0</td>\n",
       "      <td>28.1</td>\n",
       "    </tr>\n",
       "    <tr>\n",
       "      <th>Minnesota: Summary level: 040, state:27</th>\n",
       "      <td>29.7</td>\n",
       "      <td>27.8</td>\n",
       "    </tr>\n",
       "    <tr>\n",
       "      <th>Mississippi: Summary level: 040, state:28</th>\n",
       "      <td>28.8</td>\n",
       "      <td>26.9</td>\n",
       "    </tr>\n",
       "    <tr>\n",
       "      <th>Missouri: Summary level: 040, state:29</th>\n",
       "      <td>28.5</td>\n",
       "      <td>26.9</td>\n",
       "    </tr>\n",
       "    <tr>\n",
       "      <th>Montana: Summary level: 040, state:30</th>\n",
       "      <td>29.1</td>\n",
       "      <td>26.4</td>\n",
       "    </tr>\n",
       "    <tr>\n",
       "      <th>Nebraska: Summary level: 040, state:31</th>\n",
       "      <td>28.2</td>\n",
       "      <td>26.4</td>\n",
       "    </tr>\n",
       "    <tr>\n",
       "      <th>Nevada: Summary level: 040, state:32</th>\n",
       "      <td>29.8</td>\n",
       "      <td>27.8</td>\n",
       "    </tr>\n",
       "    <tr>\n",
       "      <th>New Hampshire: Summary level: 040, state:33</th>\n",
       "      <td>30.5</td>\n",
       "      <td>28.7</td>\n",
       "    </tr>\n",
       "    <tr>\n",
       "      <th>New Jersey: Summary level: 040, state:34</th>\n",
       "      <td>30.7</td>\n",
       "      <td>29.3</td>\n",
       "    </tr>\n",
       "    <tr>\n",
       "      <th>New Mexico: Summary level: 040, state:35</th>\n",
       "      <td>29.3</td>\n",
       "      <td>27.7</td>\n",
       "    </tr>\n",
       "    <tr>\n",
       "      <th>New York: Summary level: 040, state:36</th>\n",
       "      <td>31.1</td>\n",
       "      <td>29.7</td>\n",
       "    </tr>\n",
       "    <tr>\n",
       "      <th>North Carolina: Summary level: 040, state:37</th>\n",
       "      <td>29.3</td>\n",
       "      <td>27.6</td>\n",
       "    </tr>\n",
       "    <tr>\n",
       "      <th>North Dakota: Summary level: 040, state:38</th>\n",
       "      <td>28.2</td>\n",
       "      <td>26.0</td>\n",
       "    </tr>\n",
       "    <tr>\n",
       "      <th>Ohio: Summary level: 040, state:39</th>\n",
       "      <td>29.6</td>\n",
       "      <td>27.9</td>\n",
       "    </tr>\n",
       "    <tr>\n",
       "      <th>Oklahoma: Summary level: 040, state:40</th>\n",
       "      <td>27.6</td>\n",
       "      <td>25.9</td>\n",
       "    </tr>\n",
       "    <tr>\n",
       "      <th>Oregon: Summary level: 040, state:41</th>\n",
       "      <td>29.9</td>\n",
       "      <td>27.9</td>\n",
       "    </tr>\n",
       "    <tr>\n",
       "      <th>Pennsylvania: Summary level: 040, state:42</th>\n",
       "      <td>30.3</td>\n",
       "      <td>28.7</td>\n",
       "    </tr>\n",
       "    <tr>\n",
       "      <th>Rhode Island: Summary level: 040, state:44</th>\n",
       "      <td>30.9</td>\n",
       "      <td>29.7</td>\n",
       "    </tr>\n",
       "    <tr>\n",
       "      <th>South Carolina: Summary level: 040, state:45</th>\n",
       "      <td>29.6</td>\n",
       "      <td>28.0</td>\n",
       "    </tr>\n",
       "    <tr>\n",
       "      <th>South Dakota: Summary level: 040, state:46</th>\n",
       "      <td>27.8</td>\n",
       "      <td>26.4</td>\n",
       "    </tr>\n",
       "    <tr>\n",
       "      <th>Tennessee: Summary level: 040, state:47</th>\n",
       "      <td>28.7</td>\n",
       "      <td>26.9</td>\n",
       "    </tr>\n",
       "    <tr>\n",
       "      <th>Texas: Summary level: 040, state:48</th>\n",
       "      <td>28.9</td>\n",
       "      <td>27.0</td>\n",
       "    </tr>\n",
       "    <tr>\n",
       "      <th>Vermont: Summary level: 040, state:50</th>\n",
       "      <td>30.6</td>\n",
       "      <td>28.4</td>\n",
       "    </tr>\n",
       "    <tr>\n",
       "      <th>Utah: Summary level: 040, state:49</th>\n",
       "      <td>26.4</td>\n",
       "      <td>24.6</td>\n",
       "    </tr>\n",
       "    <tr>\n",
       "      <th>Virginia: Summary level: 040, state:51</th>\n",
       "      <td>29.7</td>\n",
       "      <td>27.8</td>\n",
       "    </tr>\n",
       "    <tr>\n",
       "      <th>Washington: Summary level: 040, state:53</th>\n",
       "      <td>29.5</td>\n",
       "      <td>27.3</td>\n",
       "    </tr>\n",
       "    <tr>\n",
       "      <th>West Virginia: Summary level: 040, state:54</th>\n",
       "      <td>28.7</td>\n",
       "      <td>26.7</td>\n",
       "    </tr>\n",
       "    <tr>\n",
       "      <th>Wisconsin: Summary level: 040, state:55</th>\n",
       "      <td>29.6</td>\n",
       "      <td>27.8</td>\n",
       "    </tr>\n",
       "    <tr>\n",
       "      <th>Wyoming: Summary level: 040, state:56</th>\n",
       "      <td>28.0</td>\n",
       "      <td>25.7</td>\n",
       "    </tr>\n",
       "    <tr>\n",
       "      <th>Puerto Rico: Summary level: 040, state:72</th>\n",
       "      <td>32.4</td>\n",
       "      <td>30.8</td>\n",
       "    </tr>\n",
       "  </tbody>\n",
       "</table>\n",
       "</div>"
      ],
      "text/plain": [
       "                                                    B12007_001E  B12007_002E\n",
       "Alabama: Summary level: 040, state:01                      28.5         26.7\n",
       "Alaska: Summary level: 040, state:02                       29.2         26.4\n",
       "Arizona: Summary level: 040, state:04                      29.9         27.8\n",
       "Arkansas: Summary level: 040, state:05                     27.2         25.7\n",
       "California: Summary level: 040, state:06                   30.8         29.0\n",
       "Colorado: Summary level: 040, state:08                     29.7         27.7\n",
       "Delaware: Summary level: 040, state:10                     30.4         29.0\n",
       "District of Columbia: Summary level: 040, state:11         30.9         30.6\n",
       "Connecticut: Summary level: 040, state:09                  31.1         29.5\n",
       "Florida: Summary level: 040, state:12                      30.7         28.9\n",
       "Georgia: Summary level: 040, state:13                      29.5         27.7\n",
       "Idaho: Summary level: 040, state:16                        27.0         25.4\n",
       "Hawaii: Summary level: 040, state:15                       29.3         28.4\n",
       "Illinois: Summary level: 040, state:17                     30.5         28.9\n",
       "Indiana: Summary level: 040, state:18                      29.0         27.0\n",
       "Iowa: Summary level: 040, state:19                         28.4         26.6\n",
       "Kansas: Summary level: 040, state:20                       27.8         26.1\n",
       "Kentucky: Summary level: 040, state:21                     28.1         26.4\n",
       "Louisiana: Summary level: 040, state:22                    29.7         27.9\n",
       "Maine: Summary level: 040, state:23                        29.7         27.8\n",
       "Maryland: Summary level: 040, state:24                     30.5         29.1\n",
       "Massachusetts: Summary level: 040, state:25                31.0         29.9\n",
       "Michigan: Summary level: 040, state:26                     30.0         28.1\n",
       "Minnesota: Summary level: 040, state:27                    29.7         27.8\n",
       "Mississippi: Summary level: 040, state:28                  28.8         26.9\n",
       "Missouri: Summary level: 040, state:29                     28.5         26.9\n",
       "Montana: Summary level: 040, state:30                      29.1         26.4\n",
       "Nebraska: Summary level: 040, state:31                     28.2         26.4\n",
       "Nevada: Summary level: 040, state:32                       29.8         27.8\n",
       "New Hampshire: Summary level: 040, state:33                30.5         28.7\n",
       "New Jersey: Summary level: 040, state:34                   30.7         29.3\n",
       "New Mexico: Summary level: 040, state:35                   29.3         27.7\n",
       "New York: Summary level: 040, state:36                     31.1         29.7\n",
       "North Carolina: Summary level: 040, state:37               29.3         27.6\n",
       "North Dakota: Summary level: 040, state:38                 28.2         26.0\n",
       "Ohio: Summary level: 040, state:39                         29.6         27.9\n",
       "Oklahoma: Summary level: 040, state:40                     27.6         25.9\n",
       "Oregon: Summary level: 040, state:41                       29.9         27.9\n",
       "Pennsylvania: Summary level: 040, state:42                 30.3         28.7\n",
       "Rhode Island: Summary level: 040, state:44                 30.9         29.7\n",
       "South Carolina: Summary level: 040, state:45               29.6         28.0\n",
       "South Dakota: Summary level: 040, state:46                 27.8         26.4\n",
       "Tennessee: Summary level: 040, state:47                    28.7         26.9\n",
       "Texas: Summary level: 040, state:48                        28.9         27.0\n",
       "Vermont: Summary level: 040, state:50                      30.6         28.4\n",
       "Utah: Summary level: 040, state:49                         26.4         24.6\n",
       "Virginia: Summary level: 040, state:51                     29.7         27.8\n",
       "Washington: Summary level: 040, state:53                   29.5         27.3\n",
       "West Virginia: Summary level: 040, state:54                28.7         26.7\n",
       "Wisconsin: Summary level: 040, state:55                    29.6         27.8\n",
       "Wyoming: Summary level: 040, state:56                      28.0         25.7\n",
       "Puerto Rico: Summary level: 040, state:72                  32.4         30.8"
      ]
     },
     "execution_count": 11,
     "metadata": {},
     "output_type": "execute_result"
    }
   ],
   "source": [
    "censusdata.download('acs5', 2019,\n",
    "                   censusdata.censusgeo([('state', '*')]),\n",
    "                    ['B12007_001E', 'B12007_002E'])"
   ]
  }
 ],
 "metadata": {
  "kernelspec": {
   "display_name": "Python [conda env:PIC16B]",
   "language": "python",
   "name": "conda-env-PIC16B-py"
  },
  "language_info": {
   "codemirror_mode": {
    "name": "ipython",
    "version": 3
   },
   "file_extension": ".py",
   "mimetype": "text/x-python",
   "name": "python",
   "nbconvert_exporter": "python",
   "pygments_lexer": "ipython3",
   "version": "3.8.12"
  }
 },
 "nbformat": 4,
 "nbformat_minor": 5
}
