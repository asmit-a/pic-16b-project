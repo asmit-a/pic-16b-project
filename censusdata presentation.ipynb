{
 "cells": [
  {
   "cell_type": "markdown",
   "id": "dd04f363",
   "metadata": {},
   "source": [
    "# Looking at changing family structures\n",
    "\n",
    "*Overview of our project*\n",
    "\n",
    "To do this, we need to use data from the census, which the first part of our project was dedicated to retrieving."
   ]
  },
  {
   "cell_type": "markdown",
   "id": "52df5103",
   "metadata": {},
   "source": [
    "## Finding a package\n",
    "\n",
    "We ended up going with the censusdata package. We found a clear write up about it at  https://towardsdatascience.com/accessing-census-data-with-python-3e2f2b56e20d and found it's functions clear and useful. We originally looked at the census package, but this required an api to access the data that often failed and the functions to get the data were less clear."
   ]
  },
  {
   "cell_type": "code",
   "execution_count": 1,
   "id": "eda22d13",
   "metadata": {},
   "outputs": [],
   "source": [
    "import pandas as pd\n",
    "import censusdata"
   ]
  },
  {
   "cell_type": "markdown",
   "id": "739bb81c",
   "metadata": {},
   "source": [
    "## Searching for relevant tables\n",
    "\n",
    "This package contains a search function that allows us to search a data set for relevant tables."
   ]
  },
  {
   "cell_type": "markdown",
   "id": "bdc70f7a",
   "metadata": {},
   "source": [
    "In this search we looked at the American Community Survey 5-year estimates. This is a more in depth but slightly less accurate version of the 10 year census and is conducted on a rolling basis."
   ]
  },
  {
   "cell_type": "markdown",
   "id": "0d53961a",
   "metadata": {},
   "source": [
    "In this search we look at this data set for 2019 and look for tables related to marriage."
   ]
  },
  {
   "cell_type": "code",
   "execution_count": 6,
   "id": "35a0249d",
   "metadata": {},
   "outputs": [
    {
     "name": "stdout",
     "output_type": "stream",
     "text": [
      "56\n"
     ]
    },
    {
     "data": {
      "text/plain": [
       "[('B12007A_001E',\n",
       "  'MEDIAN AGE AT FIRST MARRIAGE (WHITE ALONE)',\n",
       "  'Estimate!!Median age at first marriage --!!Male'),\n",
       " ('B12007A_002E',\n",
       "  'MEDIAN AGE AT FIRST MARRIAGE (WHITE ALONE)',\n",
       "  'Estimate!!Median age at first marriage --!!Female'),\n",
       " ('B12007B_001E',\n",
       "  'MEDIAN AGE AT FIRST MARRIAGE (BLACK OR AFRICAN AMERICAN ALONE)',\n",
       "  'Estimate!!Median age at first marriage --!!Male')]"
      ]
     },
     "execution_count": 6,
     "metadata": {},
     "output_type": "execute_result"
    }
   ],
   "source": [
    "tables = censusdata.search('acs5', 2019,'concept', 'marriage')\n",
    "print(len(tables))\n",
    "tables[:3]"
   ]
  },
  {
   "cell_type": "markdown",
   "id": "489c56ac",
   "metadata": {},
   "source": [
    "This outputs a list of tuples with the code name, table name, and variable."
   ]
  },
  {
   "cell_type": "markdown",
   "id": "57e6997f",
   "metadata": {},
   "source": [
    "We then looked at a list of just the table names to be able to more easily look for the table we want."
   ]
  },
  {
   "cell_type": "code",
   "execution_count": 5,
   "id": "f6d0226d",
   "metadata": {},
   "outputs": [
    {
     "data": {
      "text/plain": [
       "['MARRIAGES ENDING IN WIDOWHOOD IN THE LAST YEAR BY SEX BY MARITAL STATUS FOR THE POPULATION 15 YEARS AND OVER',\n",
       " 'MARRIAGES IN THE LAST YEAR BY SEX BY MARITAL STATUS FOR THE POPULATION 15 YEARS AND OVER',\n",
       " 'MEDIAN AGE AT FIRST MARRIAGE',\n",
       " 'MEDIAN AGE AT FIRST MARRIAGE (AMERICAN INDIAN AND ALASKA NATIVE ALONE)',\n",
       " 'MEDIAN AGE AT FIRST MARRIAGE (ASIAN ALONE)',\n",
       " 'MEDIAN AGE AT FIRST MARRIAGE (BLACK OR AFRICAN AMERICAN ALONE)',\n",
       " 'MEDIAN AGE AT FIRST MARRIAGE (HISPANIC OR LATINO)',\n",
       " 'MEDIAN AGE AT FIRST MARRIAGE (NATIVE HAWAIIAN AND OTHER PACIFIC ISLANDER ALONE)',\n",
       " 'MEDIAN AGE AT FIRST MARRIAGE (SOME OTHER RACE ALONE)',\n",
       " 'MEDIAN AGE AT FIRST MARRIAGE (TWO OR MORE RACES)',\n",
       " 'MEDIAN AGE AT FIRST MARRIAGE (WHITE ALONE)',\n",
       " 'MEDIAN AGE AT FIRST MARRIAGE (WHITE ALONE, NOT HISPANIC OR LATINO)',\n",
       " 'MEDIAN DURATION OF CURRENT MARRIAGE IN YEARS BY SEX BY MARITAL STATUS FOR THE MARRIED POPULATION 15 YEARS AND OVER']"
      ]
     },
     "execution_count": 5,
     "metadata": {},
     "output_type": "execute_result"
    }
   ],
   "source": [
    "table_names = list(set([row[1] for row in tables[:len(tables)-1]]))\n",
    "table_names.sort()\n",
    "table_names"
   ]
  },
  {
   "cell_type": "markdown",
   "id": "e77eebb1",
   "metadata": {},
   "source": [
    "## Getting data froma specific table"
   ]
  },
  {
   "cell_type": "markdown",
   "id": "55ef9ff6",
   "metadata": {},
   "source": [
    "We one we pick the name we needed to find the code"
   ]
  },
  {
   "cell_type": "code",
   "execution_count": 12,
   "id": "3476c1cf",
   "metadata": {},
   "outputs": [
    {
     "name": "stdout",
     "output_type": "stream",
     "text": [
      "('B12007_001E', 'MEDIAN AGE AT FIRST MARRIAGE', 'Estimate!!Median age at first marriage --!!Male')\n",
      "('B12007_002E', 'MEDIAN AGE AT FIRST MARRIAGE', 'Estimate!!Median age at first marriage --!!Female')\n"
     ]
    },
    {
     "data": {
      "text/plain": [
       "'B12007'"
      ]
     },
     "execution_count": 12,
     "metadata": {},
     "output_type": "execute_result"
    }
   ],
   "source": [
    "name = 'MEDIAN AGE AT FIRST MARRIAGE'\n",
    "for item in tables:\n",
    "    if item[1] == name:\n",
    "        print(item)\n",
    "        code = item[0][:6]\n",
    "code"
   ]
  },
  {
   "cell_type": "markdown",
   "id": "a11423d2",
   "metadata": {},
   "source": [
    "Then we can use the printtable function to get a look at the structure of the table."
   ]
  },
  {
   "cell_type": "code",
   "execution_count": 13,
   "id": "84360879",
   "metadata": {},
   "outputs": [
    {
     "name": "stdout",
     "output_type": "stream",
     "text": [
      "Variable     | Table                          | Label                                                    | Type \n",
      "-------------------------------------------------------------------------------------------------------------------\n",
      "B12007_001E  | MEDIAN AGE AT FIRST MARRIAGE   | !! !! Estimate Median age at first marriage -- Male      | float\n",
      "B12007_002E  | MEDIAN AGE AT FIRST MARRIAGE   | !! !! Estimate Median age at first marriage -- Female    | float\n",
      "-------------------------------------------------------------------------------------------------------------------\n"
     ]
    }
   ],
   "source": [
    "censusdata.printtable(censusdata.censustable('acs5', 2019, code))"
   ]
  },
  {
   "cell_type": "markdown",
   "id": "01d65f4a",
   "metadata": {},
   "source": [
    "Then we can download the variables we choose into a pandas data frame by using the codes above."
   ]
  },
  {
   "cell_type": "code",
   "execution_count": 18,
   "id": "8fed02ee",
   "metadata": {},
   "outputs": [
    {
     "data": {
      "text/html": [
       "<div>\n",
       "<style scoped>\n",
       "    .dataframe tbody tr th:only-of-type {\n",
       "        vertical-align: middle;\n",
       "    }\n",
       "\n",
       "    .dataframe tbody tr th {\n",
       "        vertical-align: top;\n",
       "    }\n",
       "\n",
       "    .dataframe thead th {\n",
       "        text-align: right;\n",
       "    }\n",
       "</style>\n",
       "<table border=\"1\" class=\"dataframe\">\n",
       "  <thead>\n",
       "    <tr style=\"text-align: right;\">\n",
       "      <th></th>\n",
       "      <th>B12007_001E</th>\n",
       "      <th>B12007_002E</th>\n",
       "    </tr>\n",
       "  </thead>\n",
       "  <tbody>\n",
       "    <tr>\n",
       "      <th>Alabama: Summary level: 040, state:01</th>\n",
       "      <td>28.5</td>\n",
       "      <td>26.7</td>\n",
       "    </tr>\n",
       "    <tr>\n",
       "      <th>Alaska: Summary level: 040, state:02</th>\n",
       "      <td>29.2</td>\n",
       "      <td>26.4</td>\n",
       "    </tr>\n",
       "    <tr>\n",
       "      <th>Arizona: Summary level: 040, state:04</th>\n",
       "      <td>29.9</td>\n",
       "      <td>27.8</td>\n",
       "    </tr>\n",
       "    <tr>\n",
       "      <th>Arkansas: Summary level: 040, state:05</th>\n",
       "      <td>27.2</td>\n",
       "      <td>25.7</td>\n",
       "    </tr>\n",
       "    <tr>\n",
       "      <th>California: Summary level: 040, state:06</th>\n",
       "      <td>30.8</td>\n",
       "      <td>29.0</td>\n",
       "    </tr>\n",
       "  </tbody>\n",
       "</table>\n",
       "</div>"
      ],
      "text/plain": [
       "                                          B12007_001E  B12007_002E\n",
       "Alabama: Summary level: 040, state:01            28.5         26.7\n",
       "Alaska: Summary level: 040, state:02             29.2         26.4\n",
       "Arizona: Summary level: 040, state:04            29.9         27.8\n",
       "Arkansas: Summary level: 040, state:05           27.2         25.7\n",
       "California: Summary level: 040, state:06         30.8         29.0"
      ]
     },
     "execution_count": 18,
     "metadata": {},
     "output_type": "execute_result"
    }
   ],
   "source": [
    "marriage_age_2019 = censusdata.download('acs5', 2019,\n",
    "                   censusdata.censusgeo([('state', '*')]),\n",
    "                    ['B12007_001E', 'B12007_002E'])"
   ]
  },
  {
   "cell_type": "markdown",
   "id": "8791fc88",
   "metadata": {},
   "source": [
    "## Streamlining this process\n",
    "\n",
    "To reformat this table and others, we wrote the following function. We can follow the same process to find other tables and variables of interest, and then plug that information into this function to get a nicer table."
   ]
  },
  {
   "cell_type": "code",
   "execution_count": 94,
   "id": "8e963629",
   "metadata": {},
   "outputs": [],
   "source": [
    "\"\"\"\n",
    "This function downloads the specified tables from the specified years and reformats them\n",
    "\n",
    "Inputs: codes - a list of the table codes\n",
    "        names - what to rename the variables for each table code\n",
    "        years - years to get a table from\n",
    "        \n",
    "Output: one dataframe with the requested data compiling the different years\n",
    "\"\"\"\n",
    "def get_tables(codes, names, years):\n",
    "    tables = []\n",
    "    for year in years:\n",
    "        #Get table\n",
    "        df = censusdata.download('acs5', year,\n",
    "                   censusdata.censusgeo([('state', '*')]),\n",
    "                    codes)\n",
    "        \n",
    "        #Rename columns\n",
    "        name_dict = dict(zip(codes, names))\n",
    "        name_dict['index'] = 'State'\n",
    "        df = df.reset_index() #Turns row names into row\n",
    "        df = df.rename(columns = name_dict)\n",
    "        \n",
    "        #Shorten states column to state name\n",
    "        df = df.astype({'State':'str'})\n",
    "        df['State'] = df['State'].str.split(':').str.get(0) \n",
    "        \n",
    "        #Add column for year\n",
    "        df['Year'] = year\n",
    "        \n",
    "        tables.append(df)\n",
    "    return pd.concat(tables)"
   ]
  },
  {
   "cell_type": "code",
   "execution_count": 96,
   "id": "363f57d7",
   "metadata": {},
   "outputs": [],
   "source": [
    "marriage = get_tables(['B12007_001E', 'B12007_002E'], ['Male age', 'Female age'], [2009, 2014, 2019])"
   ]
  },
  {
   "cell_type": "markdown",
   "id": "5214f127",
   "metadata": {},
   "source": [
    "## Data visualization\n",
    "\n",
    "Now we can make charts from the data."
   ]
  },
  {
   "cell_type": "code",
   "execution_count": 82,
   "id": "b01775bf",
   "metadata": {},
   "outputs": [],
   "source": [
    "from matplotlib import pyplot as plt"
   ]
  },
  {
   "cell_type": "code",
   "execution_count": 97,
   "id": "910ad332",
   "metadata": {},
   "outputs": [
    {
     "data": {
      "text/html": [
       "<div>\n",
       "<style scoped>\n",
       "    .dataframe tbody tr th:only-of-type {\n",
       "        vertical-align: middle;\n",
       "    }\n",
       "\n",
       "    .dataframe tbody tr th {\n",
       "        vertical-align: top;\n",
       "    }\n",
       "\n",
       "    .dataframe thead th {\n",
       "        text-align: right;\n",
       "    }\n",
       "</style>\n",
       "<table border=\"1\" class=\"dataframe\">\n",
       "  <thead>\n",
       "    <tr style=\"text-align: right;\">\n",
       "      <th></th>\n",
       "      <th>State</th>\n",
       "      <th>Male age</th>\n",
       "      <th>Female age</th>\n",
       "      <th>Year</th>\n",
       "    </tr>\n",
       "  </thead>\n",
       "  <tbody>\n",
       "    <tr>\n",
       "      <th>4</th>\n",
       "      <td>California</td>\n",
       "      <td>28.8</td>\n",
       "      <td>26.8</td>\n",
       "      <td>2009</td>\n",
       "    </tr>\n",
       "    <tr>\n",
       "      <th>4</th>\n",
       "      <td>California</td>\n",
       "      <td>29.9</td>\n",
       "      <td>27.9</td>\n",
       "      <td>2014</td>\n",
       "    </tr>\n",
       "    <tr>\n",
       "      <th>4</th>\n",
       "      <td>California</td>\n",
       "      <td>30.8</td>\n",
       "      <td>29.0</td>\n",
       "      <td>2019</td>\n",
       "    </tr>\n",
       "  </tbody>\n",
       "</table>\n",
       "</div>"
      ],
      "text/plain": [
       "        State  Male age  Female age  Year\n",
       "4  California      28.8        26.8  2009\n",
       "4  California      29.9        27.9  2014\n",
       "4  California      30.8        29.0  2019"
      ]
     },
     "execution_count": 97,
     "metadata": {},
     "output_type": "execute_result"
    }
   ],
   "source": [
    "mar_cal = marriage[marriage['State'] == \"California\"]\n",
    "mar_cal"
   ]
  },
  {
   "cell_type": "code",
   "execution_count": 98,
   "id": "c50ac0f1",
   "metadata": {},
   "outputs": [
    {
     "data": {
      "text/plain": [
       "[<matplotlib.lines.Line2D at 0x7fa4ce8338b0>]"
      ]
     },
     "execution_count": 98,
     "metadata": {},
     "output_type": "execute_result"
    },
    {
     "data": {
      "image/png": "[encoded data removed]",
      "text/plain": [
       "<Figure size 432x288 with 1 Axes>"
      ]
     },
     "metadata": {
      "needs_background": "light"
     },
     "output_type": "display_data"
    }
   ],
   "source": [
    "plt.plot(mar_cal['Year'], mar_cal['Male age'])"
   ]
  }
 ],
 "metadata": {
  "kernelspec": {
   "display_name": "Python [conda env:PIC16B]",
   "language": "python",
   "name": "conda-env-PIC16B-py"
  },
  "language_info": {
   "codemirror_mode": {
    "name": "ipython",
    "version": 3
   },
   "file_extension": ".py",
   "mimetype": "text/x-python",
   "name": "python",
   "nbconvert_exporter": "python",
   "pygments_lexer": "ipython3",
   "version": "3.8.12"
  }
 },
 "nbformat": 4,
 "nbformat_minor": 5
}
